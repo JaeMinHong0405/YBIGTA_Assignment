{
 "cells": [
  {
   "cell_type": "code",
   "execution_count": 1,
   "metadata": {},
   "outputs": [],
   "source": [
    "import selenium\n",
    "from selenium import webdriver\n",
    "from selenium.webdriver.common.keys import Keys\n",
    "\n",
    "driver = webdriver.Chrome()"
   ]
  },
  {
   "cell_type": "code",
   "execution_count": 2,
   "metadata": {},
   "outputs": [
    {
     "name": "stdout",
     "output_type": "stream",
     "text": [
      "4.15.2\n"
     ]
    }
   ],
   "source": [
    "from bs4 import BeautifulSoup\n",
    "from selenium.webdriver.chrome.service import Service\n",
    "from selenium.webdriver.chrome.options import Options\n",
    "from webdriver_manager.chrome import ChromeDriverManager\n",
    "import pandas as pd\n",
    "import numpy as np\n",
    "import time\n",
    "from selenium.webdriver.common.by import By\n",
    "from selenium.webdriver.common.keys import Keys\n",
    "from selenium.webdriver.support.ui import WebDriverWait\n",
    "from selenium.webdriver.support import expected_conditions as EC\n",
    "import re\n",
    "print(selenium.__version__)"
   ]
  },
  {
   "cell_type": "code",
   "execution_count": 7,
   "metadata": {},
   "outputs": [],
   "source": [
    "chrome_options = Options()\n",
    "\n",
    "chrome_options.add_experimental_option(\"detach\", True)\n",
    "chrome_options.add_experimental_option(\"excludeSwitches\",[\"enable-logging\"])\n",
    "\n",
    "driver = webdriver.Chrome(options=chrome_options)"
   ]
  },
  {
   "cell_type": "code",
   "execution_count": 8,
   "metadata": {},
   "outputs": [],
   "source": [
    "musinsa_url = \"https://www.musinsa.com/app/codimap/lists\"\n",
    "driver.get(musinsa_url)\n",
    "driver.maximize_window()"
   ]
  },
  {
   "cell_type": "code",
   "execution_count": 9,
   "metadata": {},
   "outputs": [],
   "source": [
    "reviews_button = driver.find_element(By.XPATH, '/html/body/div[3]/div[2]/form/div[4]/div/div[1]/a[3]/span') # 일요일 웹툰 버튼 클릭\n",
    "reviews_button.click()"
   ]
  },
  {
   "cell_type": "code",
   "execution_count": 23,
   "metadata": {},
   "outputs": [],
   "source": [
    "driver = webdriver.Chrome(options=chrome_options)\n",
    "\n",
    "musinsa_list = []\n",
    "musinsa_url = \"https://www.musinsa.com/app/codimap/lists\"\n",
    "driver.get(musinsa_url)\n",
    "driver.implicitly_wait(2)\n",
    "\n",
    "try:\n",
    "    driver.maximize_window()\n",
    "except:\n",
    "    pass\n",
    "\n",
    "for web_page in range(2):\n",
    "\n",
    "    interval = 1 \n",
    "\n",
    "    prev_height = driver.execute_script(\"return document.body.scrollHeight\")\n",
    "\n",
    "    while True:\n",
    "        driver.execute_script(\"window.scrollTo(0, document.body.scrollHeight)\")\n",
    "\n",
    "        time.sleep(interval)\n",
    "\n",
    "        curr_height = driver.execute_script(\"return document.body.scrollHeight\")\n",
    "        if curr_height == prev_height:\n",
    "            break\n",
    "\n",
    "        prev_height = curr_height\n",
    "\n",
    "    columns = ['codimap_category','codimap_title','codimap_date','views','comment_count']   \n",
    "    values = []                                           \n",
    "    soup = BeautifulSoup(driver.page_source, 'html.parser')    \n",
    "    data_rows = soup.find_all('li', attrs={'class':'style-list-item'}) \n",
    "\n",
    "    for i, row in enumerate(data_rows):                     \n",
    "\n",
    "        blank = []\n",
    "\n",
    "        codimap_category = row.find('span', attrs={'class':'style-list-information__text'})     \n",
    "        if codimap_category:                                                                        \n",
    "            codimap_cat_text = codimap_category.get_text().strip()                                    \n",
    "            blank.append(codimap_cat_text)\n",
    "        else:                                                              \n",
    "            blank.append('Something went wrong with processing the category')\n",
    "            continue\n",
    "\n",
    "\n",
    "        codimap_title = row.find('strong', attrs={'class':'style-list-information__title'})     \n",
    "        if codimap_title:\n",
    "            codimap_title = codimap_title.get_text().strip()\n",
    "            blank.append(codimap_title)\n",
    "        else:\n",
    "            blank.append('Something went wrong with processing the title')\n",
    "            continue\n",
    "\n",
    "        # Find all span elements within the list\n",
    "        span_elements = row.find_all('span', class_='post-information__text')\n",
    "        \n",
    "        # skipping if 'post-information__text--new' is present in the span elements\n",
    "        if 'post-information__text--new' in span_elements[0]['class']:\n",
    "            continue\n",
    "\n",
    "        codimap_date = span_elements[0].text.strip()\n",
    "        if codimap_date:\n",
    "            blank.append(codimap_date)\n",
    "        else:\n",
    "            blank.append('Something went wrong with processing the date')\n",
    "            continue\n",
    "        \n",
    "        views = span_elements[1].text.strip()\n",
    "        if views:\n",
    "            blank.append(views)\n",
    "        else:\n",
    "            blank.append('Something went wrong with processing the views')\n",
    "            continue\n",
    "\n",
    "        comment_count = span_elements[2].text.strip()\n",
    "        if comment_count:\n",
    "            blank.append(comment_count)\n",
    "        else:\n",
    "            blank.append('Something went wrong with processing the comment_count')\n",
    "            continue\n",
    "\n",
    "        values.append(blank)\n",
    "\n",
    "    reviews_button = driver.find_element(By.XPATH, '/html/body/div[3]/div[2]/form/div[4]/div/div[1]/a[3]/span') # highest reviews button\n",
    "    reviews_button.click()\n",
    "    time.sleep(1)\n",
    "\n",
    "    df = pd.DataFrame(values, columns = columns)\n",
    "    musinsa_list.append(df)\n"
   ]
  },
  {
   "cell_type": "code",
   "execution_count": 24,
   "metadata": {},
   "outputs": [
    {
     "data": {
      "text/html": [
       "<div>\n",
       "<style scoped>\n",
       "    .dataframe tbody tr th:only-of-type {\n",
       "        vertical-align: middle;\n",
       "    }\n",
       "\n",
       "    .dataframe tbody tr th {\n",
       "        vertical-align: top;\n",
       "    }\n",
       "\n",
       "    .dataframe thead th {\n",
       "        text-align: right;\n",
       "    }\n",
       "</style>\n",
       "<table border=\"1\" class=\"dataframe\">\n",
       "  <thead>\n",
       "    <tr style=\"text-align: right;\">\n",
       "      <th></th>\n",
       "      <th>codimap_category</th>\n",
       "      <th>codimap_title</th>\n",
       "      <th>codimap_date</th>\n",
       "      <th>views</th>\n",
       "      <th>comment_count</th>\n",
       "    </tr>\n",
       "  </thead>\n",
       "  <tbody>\n",
       "    <tr>\n",
       "      <th>0</th>\n",
       "      <td>캐주얼</td>\n",
       "      <td>톤온톤 코디</td>\n",
       "      <td>21.07.02</td>\n",
       "      <td>조회 17,320</td>\n",
       "      <td>댓글 50</td>\n",
       "    </tr>\n",
       "    <tr>\n",
       "      <th>1</th>\n",
       "      <td>캐주얼</td>\n",
       "      <td>블랙 매니아</td>\n",
       "      <td>21.02.23</td>\n",
       "      <td>조회 36,357</td>\n",
       "      <td>댓글 47</td>\n",
       "    </tr>\n",
       "    <tr>\n",
       "      <th>2</th>\n",
       "      <td>캐주얼</td>\n",
       "      <td>오늘의 코디</td>\n",
       "      <td>22.03.22</td>\n",
       "      <td>조회 13,427</td>\n",
       "      <td>댓글 44</td>\n",
       "    </tr>\n",
       "    <tr>\n",
       "      <th>3</th>\n",
       "      <td>댄디</td>\n",
       "      <td>추천 댄디 룩</td>\n",
       "      <td>21.09.15</td>\n",
       "      <td>조회 21,623</td>\n",
       "      <td>댓글 32</td>\n",
       "    </tr>\n",
       "    <tr>\n",
       "      <th>4</th>\n",
       "      <td>캐주얼</td>\n",
       "      <td>릴랙스 룩</td>\n",
       "      <td>21.02.23</td>\n",
       "      <td>조회 24,053</td>\n",
       "      <td>댓글 25</td>\n",
       "    </tr>\n",
       "    <tr>\n",
       "      <th>5</th>\n",
       "      <td>스트릿</td>\n",
       "      <td>힙하다 힙해</td>\n",
       "      <td>21.02.03</td>\n",
       "      <td>조회 36,109</td>\n",
       "      <td>댓글 24</td>\n",
       "    </tr>\n",
       "    <tr>\n",
       "      <th>6</th>\n",
       "      <td>댄디</td>\n",
       "      <td>데이트 코디</td>\n",
       "      <td>21.12.24</td>\n",
       "      <td>조회 10,997</td>\n",
       "      <td>댓글 19</td>\n",
       "    </tr>\n",
       "    <tr>\n",
       "      <th>7</th>\n",
       "      <td>캐주얼</td>\n",
       "      <td>심플한 코디</td>\n",
       "      <td>21.07.30</td>\n",
       "      <td>조회 41,376</td>\n",
       "      <td>댓글 18</td>\n",
       "    </tr>\n",
       "    <tr>\n",
       "      <th>8</th>\n",
       "      <td>댄디</td>\n",
       "      <td>훈훈 남친 룩</td>\n",
       "      <td>21.03.24</td>\n",
       "      <td>조회 20,025</td>\n",
       "      <td>댓글 17</td>\n",
       "    </tr>\n",
       "    <tr>\n",
       "      <th>9</th>\n",
       "      <td>댄디</td>\n",
       "      <td>서머 데이트 룩</td>\n",
       "      <td>21.07.26</td>\n",
       "      <td>조회 8,373</td>\n",
       "      <td>댓글 17</td>\n",
       "    </tr>\n",
       "  </tbody>\n",
       "</table>\n",
       "</div>"
      ],
      "text/plain": [
       "  codimap_category codimap_title codimap_date      views comment_count\n",
       "0              캐주얼        톤온톤 코디     21.07.02  조회 17,320         댓글 50\n",
       "1              캐주얼        블랙 매니아     21.02.23  조회 36,357         댓글 47\n",
       "2              캐주얼        오늘의 코디     22.03.22  조회 13,427         댓글 44\n",
       "3               댄디       추천 댄디 룩     21.09.15  조회 21,623         댓글 32\n",
       "4              캐주얼         릴랙스 룩     21.02.23  조회 24,053         댓글 25\n",
       "5              스트릿        힙하다 힙해     21.02.03  조회 36,109         댓글 24\n",
       "6               댄디        데이트 코디     21.12.24  조회 10,997         댓글 19\n",
       "7              캐주얼        심플한 코디     21.07.30  조회 41,376         댓글 18\n",
       "8               댄디       훈훈 남친 룩     21.03.24  조회 20,025         댓글 17\n",
       "9               댄디      서머 데이트 룩     21.07.26   조회 8,373         댓글 17"
      ]
     },
     "execution_count": 24,
     "metadata": {},
     "output_type": "execute_result"
    }
   ],
   "source": [
    "df_ = pd.concat(musinsa_list).reset_index(drop=True) \n",
    "df_.head(10)"
   ]
  },
  {
   "cell_type": "code",
   "execution_count": 25,
   "metadata": {},
   "outputs": [
    {
     "data": {
      "text/plain": [
       "(60, 5)"
      ]
     },
     "execution_count": 25,
     "metadata": {},
     "output_type": "execute_result"
    }
   ],
   "source": [
    "df_.shape"
   ]
  },
  {
   "cell_type": "code",
   "execution_count": 26,
   "metadata": {},
   "outputs": [],
   "source": [
    "df_.to_csv('YBIGTA_24기_Jae_Min_Hong_web_crawling.csv', encoding = 'utf-8-sig')"
   ]
  },
  {
   "cell_type": "code",
   "execution_count": null,
   "metadata": {},
   "outputs": [],
   "source": []
  }
 ],
 "metadata": {
  "kernelspec": {
   "display_name": "crawling_env",
   "language": "python",
   "name": "python3"
  },
  "language_info": {
   "codemirror_mode": {
    "name": "ipython",
    "version": 3
   },
   "file_extension": ".py",
   "mimetype": "text/x-python",
   "name": "python",
   "nbconvert_exporter": "python",
   "pygments_lexer": "ipython3",
   "version": "3.12.1"
  }
 },
 "nbformat": 4,
 "nbformat_minor": 2
}
